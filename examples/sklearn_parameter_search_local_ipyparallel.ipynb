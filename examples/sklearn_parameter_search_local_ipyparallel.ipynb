{
 "cells": [
  {
   "cell_type": "markdown",
   "metadata": {},
   "source": [
    "# Use a local ipyparallel cluster"
   ]
  },
  {
   "cell_type": "markdown",
   "metadata": {},
   "source": [
    "Start the controller and some engines:\n",
    "\n",
    "1. In a terminal start your controller with `ipcontroller`:\n",
    "```shell\n",
    "$ ipcontroller\n",
    "```\n",
    "\n",
    "2. In another terminal start your engines with `ipcluster`:\n",
    "```shell\n",
    "$ ipcluster engines -n 8\n",
    "```\n",
    "\n",
    "IPython Parallel structure:\n",
    "\n",
    "<img src=\"https://ipyparallel.readthedocs.io/en/latest/_images/wideView.png\" alt='ipyparallel' style=\"width: 300px;\"/>"
   ]
  },
  {
   "cell_type": "markdown",
   "metadata": {},
   "source": [
    "### 1. Install development versions of Joblib and IPython parallel"
   ]
  },
  {
   "cell_type": "code",
   "execution_count": null,
   "metadata": {
    "collapsed": false
   },
   "outputs": [],
   "source": [
    "import subprocess\n",
    "\n",
    "subprocess.check_call(\n",
    "    'pip install git+https://github.com/ipython/ipyparallel'.split())\n",
    "subprocess.check_call(\n",
    "    'pip install git+https://github.com/joblib/joblib'.split())"
   ]
  },
  {
   "cell_type": "markdown",
   "metadata": {},
   "source": [
    "### 2. Monkey patch internal joblib in scikit-learn"
   ]
  },
  {
   "cell_type": "code",
   "execution_count": null,
   "metadata": {
    "collapsed": false
   },
   "outputs": [],
   "source": [
    "# Force the use of the development branch of joblib in scikit-learn\n",
    "# won't be necessary once scikit-learn will get in sync with joblib\n",
    "# 0.10+\n",
    "import joblib\n",
    "from sklearn.externals import joblib as skl_joblib\n",
    "print('Monkeypatching scikit-learn embedded joblib')\n",
    "for k, v in vars(joblib).items():\n",
    "   setattr(skl_joblib, k, v)"
   ]
  },
  {
   "cell_type": "markdown",
   "metadata": {},
   "source": [
    "### 2. Parameter search with scikit-learn"
   ]
  },
  {
   "cell_type": "code",
   "execution_count": null,
   "metadata": {
    "collapsed": true
   },
   "outputs": [],
   "source": [
    "from sklearn.datasets import load_digits\n",
    "\n",
    "digits = load_digits()"
   ]
  },
  {
   "cell_type": "code",
   "execution_count": null,
   "metadata": {
    "collapsed": false
   },
   "outputs": [],
   "source": [
    "%matplotlib inline\n",
    "import matplotlib.pyplot as plt\n",
    "\n",
    "sample_idx = 124\n",
    "plt.imshow(digits.data[sample_idx].reshape(8, 8), interpolation='nearest',\n",
    "           cmap=plt.cm.gray)\n",
    "plt.title(\"True label: %d\" % digits.target[sample_idx]);"
   ]
  },
  {
   "cell_type": "code",
   "execution_count": null,
   "metadata": {
    "collapsed": true
   },
   "outputs": [],
   "source": [
    "from sklearn.grid_search import RandomizedSearchCV\n",
    "from sklearn.svm import SVC\n",
    "import numpy as np\n",
    "from pprint import pprint\n",
    "\n",
    "model = SVC(kernel='rbf')\n",
    "\n",
    "param_space = {\n",
    "    'C': np.logspace(-6, 6, 13),\n",
    "    'gamma': np.logspace(-8, 8, 17),\n",
    "    'tol': np.logspace(-4, -1, 4),\n",
    "    'class_weight': [None, 'balanced'],\n",
    "}"
   ]
  },
  {
   "cell_type": "markdown",
   "metadata": {},
   "source": [
    "## Run using single job"
   ]
  },
  {
   "cell_type": "code",
   "execution_count": null,
   "metadata": {
    "collapsed": false
   },
   "outputs": [],
   "source": [
    "%%time\n",
    "search = RandomizedSearchCV(model, param_space, cv=2, random_state=0, n_iter=1)\n",
    "search.fit(digits.data, digits.target)\n",
    "\n",
    "print(\"Best parameter score: %0.3f\" % search.best_score_)\n",
    "pprint(search.best_params_)"
   ]
  },
  {
   "cell_type": "markdown",
   "metadata": {},
   "source": [
    "## Run using the ipyparallel cluster"
   ]
  },
  {
   "cell_type": "code",
   "execution_count": null,
   "metadata": {
    "collapsed": true
   },
   "outputs": [],
   "source": [
    "import ipyparallel as ipp\n",
    "from ipyparallel.joblib import IPythonParallelBackend\n",
    "from joblib import parallel_backend, register_parallel_backend\n",
    "register_parallel_backend('ipyparallel', IPythonParallelBackend)"
   ]
  },
  {
   "cell_type": "code",
   "execution_count": null,
   "metadata": {
    "collapsed": false
   },
   "outputs": [],
   "source": [
    "%%time\n",
    "with parallel_backend('ipyparallel'):\n",
    "    search = RandomizedSearchCV(model, param_space, cv=2, n_iter=5, random_state=0, verbose=10)\n",
    "    search.fit(digits.data, digits.target)"
   ]
  },
  {
   "cell_type": "code",
   "execution_count": null,
   "metadata": {
    "collapsed": false
   },
   "outputs": [],
   "source": [
    "print(\"Best parameter score: %0.3f\" % search.best_score_)\n",
    "pprint(search.best_params_)"
   ]
  },
  {
   "cell_type": "code",
   "execution_count": null,
   "metadata": {
    "collapsed": true
   },
   "outputs": [],
   "source": []
  }
 ],
 "metadata": {
  "kernelspec": {
   "display_name": "Python 3",
   "language": "python",
   "name": "python3"
  },
  "language_info": {
   "codemirror_mode": {
    "name": "ipython",
    "version": 3
   },
   "file_extension": ".py",
   "mimetype": "text/x-python",
   "name": "python",
   "nbconvert_exporter": "python",
   "pygments_lexer": "ipython3",
   "version": "3.5.1"
  }
 },
 "nbformat": 4,
 "nbformat_minor": 0
}
